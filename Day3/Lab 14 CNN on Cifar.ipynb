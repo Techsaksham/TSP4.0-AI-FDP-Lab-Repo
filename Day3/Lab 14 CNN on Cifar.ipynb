{
 "cells": [
  {
   "cell_type": "markdown",
   "metadata": {
    "id": "IOObV9nguhe4"
   },
   "source": [
    "# Classification of Images from the CIFAR-10 Dataset using  ANN (MLP) & CNN.\n",
    "The CIFAR-10 dataset consists of color 60,000 images each with 32 x 32 pixel in 10 classes, with 6,000 images per class. There are 50,000 training images and 10,000 test images.\n",
    "\n",
    "Class labels are:\n",
    "\n",
    "airplane : 0, automobile : 1, bird : 2, cat : 3, deer : 4, dog : 5, frog : 6, horse : 7, ship : 8, truck : 9."
   ]
  },
  {
   "cell_type": "markdown",
   "metadata": {
    "id": "kuVRILk-vaBb"
   },
   "source": [
    "### Import Tensorflow"
   ]
  },
  {
   "cell_type": "code",
   "execution_count": 1,
   "metadata": {
    "colab": {
     "background_save": true
    },
    "executionInfo": {
     "elapsed": 606,
     "status": "ok",
     "timestamp": 1650635431942,
     "user": {
      "displayName": "Abdulaziz Mohammad",
      "userId": "00984729133826365059"
     },
     "user_tz": -330
    },
    "id": "jmd1PDuTvVlk"
   },
   "outputs": [],
   "source": [
    "import tensorflow as tf\n",
    "import matplotlib.pyplot as plt"
   ]
  },
  {
   "cell_type": "markdown",
   "metadata": {
    "id": "vU00AMY9vLDb"
   },
   "source": [
    "# Check for GPU"
   ]
  },
  {
   "cell_type": "code",
   "execution_count": 2,
   "metadata": {
    "colab": {
     "base_uri": "https://localhost:8080/"
    },
    "executionInfo": {
     "elapsed": 349,
     "status": "ok",
     "timestamp": 1650635459135,
     "user": {
      "displayName": "Abdulaziz Mohammad",
      "userId": "00984729133826365059"
     },
     "user_tz": -330
    },
    "id": "pZjAFqimvIB_",
    "outputId": "232855e0-bd30-44f0-d0be-66ec70a4e927"
   },
   "outputs": [
    {
     "name": "stdout",
     "output_type": "stream",
     "text": [
      "Num GPUs Available:  0\n"
     ]
    }
   ],
   "source": [
    "physical_devices = tf.config.experimental.list_physical_devices('GPU')\n",
    "#physical_devices\n",
    "print(\"Num GPUs Available: \", len(physical_devices))\n",
    "#tf.config.experimental.set_memory_growth(physical_devices[0], True)"
   ]
  },
  {
   "cell_type": "markdown",
   "metadata": {
    "id": "oXnz2p3AvCIK"
   },
   "source": [
    "# Load Dataset"
   ]
  },
  {
   "cell_type": "code",
   "execution_count": 3,
   "metadata": {
    "executionInfo": {
     "elapsed": 1046,
     "status": "ok",
     "timestamp": 1650635598498,
     "user": {
      "displayName": "Abdulaziz Mohammad",
      "userId": "00984729133826365059"
     },
     "user_tz": -330
    },
    "id": "zgLDohXGuDVH"
   },
   "outputs": [],
   "source": [
    "from keras.datasets import cifar10\n",
    "(x_train, y_train), (x_test, y_test) = cifar10.load_data()"
   ]
  },
  {
   "cell_type": "markdown",
   "metadata": {
    "id": "_R8U7q3evu8t"
   },
   "source": [
    "## Show some sample images of data set with corresponding labels.\n"
   ]
  },
  {
   "cell_type": "code",
   "execution_count": null,
   "metadata": {
    "colab": {
     "base_uri": "https://localhost:8080/",
     "height": 180
    },
    "executionInfo": {
     "elapsed": 2565,
     "status": "ok",
     "timestamp": 1650635641722,
     "user": {
      "displayName": "Abdulaziz Mohammad",
      "userId": "00984729133826365059"
     },
     "user_tz": -330
    },
    "id": "egv3tZ3WvmpF",
    "outputId": "08283921-9289-4087-ae70-2743badfe9f9"
   },
   "outputs": [
    {
     "name": "stdout",
     "output_type": "stream",
     "text": [
      "Example training images and their labels: [6, 9, 9, 4, 1, 1, 2, 7, 8, 3]\n",
      "Corresponding classes for the labels: ['frog', 'truck', 'truck', 'deer', 'automobile', 'automobile', 'bird', 'horse', 'ship', 'cat']\n"
     ]
    },
    {
     "ename": "",
     "evalue": "",
     "output_type": "error",
     "traceback": [
      "\u001b[1;31mThe Kernel crashed while executing code in the current cell or a previous cell. \n",
      "\u001b[1;31mPlease review the code in the cell(s) to identify a possible cause of the failure. \n",
      "\u001b[1;31mClick <a href='https://aka.ms/vscodeJupyterKernelCrash'>here</a> for more info. \n",
      "\u001b[1;31mView Jupyter <a href='command:jupyter.viewOutput'>log</a> for further details."
     ]
    }
   ],
   "source": [
    "cifar10_classes = ['airplane', 'automobile', 'bird', 'cat', 'deer', 'dog', 'frog', 'horse', 'ship', 'truck']\n",
    "print('Example training images and their labels: ' + str([x[0] for x in y_train[0:10]])) \n",
    "print('Corresponding classes for the labels: ' + str([cifar10_classes[x[0]] for x in y_train[0:10]]))\n",
    "\n",
    "fig, axarr = plt.subplots(1, 10)\n",
    "fig.set_size_inches(20, 6)\n",
    "\n",
    "for i in range(10):\n",
    "    image = x_train[i]\n",
    "    axarr[i].imshow(image)\n",
    "plt.show()"
   ]
  },
  {
   "cell_type": "code",
   "execution_count": 4,
   "metadata": {
    "colab": {
     "base_uri": "https://localhost:8080/"
    },
    "executionInfo": {
     "elapsed": 337,
     "status": "ok",
     "timestamp": 1650635712948,
     "user": {
      "displayName": "Abdulaziz Mohammad",
      "userId": "00984729133826365059"
     },
     "user_tz": -330
    },
    "id": "6tFczNU9wZGM",
    "outputId": "648e3767-3a51-4919-8a9d-567aabe94456"
   },
   "outputs": [
    {
     "data": {
      "text/plain": [
       "((50000, 32, 32, 3), (50000, 1), (10000, 32, 32, 3), (10000, 1))"
      ]
     },
     "execution_count": 4,
     "metadata": {},
     "output_type": "execute_result"
    }
   ],
   "source": [
    "x_train.shape, y_train.shape, x_test.shape, y_test.shape"
   ]
  },
  {
   "cell_type": "markdown",
   "metadata": {
    "id": "9ami08m2xXCn"
   },
   "source": [
    "## Preparing the dataset\n",
    "Normalize the input data"
   ]
  },
  {
   "cell_type": "code",
   "execution_count": 5,
   "metadata": {
    "executionInfo": {
     "elapsed": 929,
     "status": "ok",
     "timestamp": 1650635868632,
     "user": {
      "displayName": "Abdulaziz Mohammad",
      "userId": "00984729133826365059"
     },
     "user_tz": -330
    },
    "id": "x82EXLcHwmyP"
   },
   "outputs": [],
   "source": [
    "X_train = x_train / 255.0\n",
    "X_test = x_test / 255.0\n",
    "# Every Neuron is expected to have value from 0 to 1 to converge quickly(Gradient Descent)"
   ]
  },
  {
   "cell_type": "markdown",
   "metadata": {
    "id": "Jz-HdQr8yBZg"
   },
   "source": [
    "# MLP Network\n",
    "\n",
    "* I/p Layer - Flatten\n",
    "* Hidden layer - 2048, AF = 'RELU'\n",
    "* O/p Layer - 10 , AF-Softmax"
   ]
  },
  {
   "cell_type": "code",
   "execution_count": 2,
   "metadata": {
    "executionInfo": {
     "elapsed": 330,
     "status": "ok",
     "timestamp": 1650636262645,
     "user": {
      "displayName": "Abdulaziz Mohammad",
      "userId": "00984729133826365059"
     },
     "user_tz": -330
    },
    "id": "uZKiN6kQyAzy"
   },
   "outputs": [],
   "source": [
    "from tensorflow import keras\n",
    "from keras.layers import Dense\n",
    "from keras.layers import Flatten"
   ]
  },
  {
   "cell_type": "code",
   "execution_count": 3,
   "metadata": {},
   "outputs": [],
   "source": [
    "ann = keras.Sequential()\n",
    "ann.add(Flatten(input_shape=(32,32,3)))\n",
    "ann.add(Dense(2048,activation='relu'))\n",
    "ann.add(Dense(10,activation='softmax'))"
   ]
  },
  {
   "cell_type": "code",
   "execution_count": 4,
   "metadata": {},
   "outputs": [
    {
     "name": "stdout",
     "output_type": "stream",
     "text": [
      "Model: \"sequential\"\n",
      "_________________________________________________________________\n",
      " Layer (type)                Output Shape              Param #   \n",
      "=================================================================\n",
      " flatten (Flatten)           (None, 3072)              0         \n",
      "                                                                 \n",
      " dense (Dense)               (None, 2048)              6293504   \n",
      "                                                                 \n",
      " dense_1 (Dense)             (None, 10)                20490     \n",
      "                                                                 \n",
      "=================================================================\n",
      "Total params: 6,313,994\n",
      "Trainable params: 6,313,994\n",
      "Non-trainable params: 0\n",
      "_________________________________________________________________\n"
     ]
    }
   ],
   "source": [
    "ann.summary()"
   ]
  },
  {
   "cell_type": "code",
   "execution_count": 5,
   "metadata": {
    "executionInfo": {
     "elapsed": 598,
     "status": "ok",
     "timestamp": 1650636287241,
     "user": {
      "displayName": "Abdulaziz Mohammad",
      "userId": "00984729133826365059"
     },
     "user_tz": -330
    },
    "id": "SPJg0WzYySF5"
   },
   "outputs": [],
   "source": [
    "ann.compile(loss='sparse_categorical_crossentropy',optimizer='adam',metrics=['accuracy'])"
   ]
  },
  {
   "cell_type": "code",
   "execution_count": 6,
   "metadata": {
    "colab": {
     "base_uri": "https://localhost:8080/"
    },
    "executionInfo": {
     "elapsed": 128291,
     "status": "ok",
     "timestamp": 1650636445904,
     "user": {
      "displayName": "Abdulaziz Mohammad",
      "userId": "00984729133826365059"
     },
     "user_tz": -330
    },
    "id": "VtqrelqmyTb3",
    "outputId": "0902ab88-30dc-4ad4-9a9b-19ec6efeafe8"
   },
   "outputs": [
    {
     "ename": "NameError",
     "evalue": "name 'X_train' is not defined",
     "output_type": "error",
     "traceback": [
      "\u001b[1;31m---------------------------------------------------------------------------\u001b[0m",
      "\u001b[1;31mNameError\u001b[0m                                 Traceback (most recent call last)",
      "Cell \u001b[1;32mIn[6], line 1\u001b[0m\n\u001b[1;32m----> 1\u001b[0m history \u001b[38;5;241m=\u001b[39m ann\u001b[38;5;241m.\u001b[39mfit(\u001b[43mX_train\u001b[49m ,y_train,epochs\u001b[38;5;241m=\u001b[39m\u001b[38;5;241m10\u001b[39m,validation_data\u001b[38;5;241m=\u001b[39m(X_test,y_test))\n",
      "\u001b[1;31mNameError\u001b[0m: name 'X_train' is not defined"
     ]
    }
   ],
   "source": [
    "history = ann.fit(X_train ,y_train,epochs=10,validation_data=(X_test,y_test))"
   ]
  },
  {
   "cell_type": "markdown",
   "metadata": {
    "id": "OVqc62RX2f_r"
   },
   "source": [
    "#### With the below simple function we will be able to plot our training history."
   ]
  },
  {
   "cell_type": "code",
   "execution_count": 12,
   "metadata": {
    "colab": {
     "base_uri": "https://localhost:8080/",
     "height": 282
    },
    "executionInfo": {
     "elapsed": 816,
     "status": "ok",
     "timestamp": 1650636817787,
     "user": {
      "displayName": "Abdulaziz Mohammad",
      "userId": "00984729133826365059"
     },
     "user_tz": -330
    },
    "id": "zrCCccRs1Evc",
    "outputId": "9418d173-89c1-4c36-f6f9-92b17f3a87b0"
   },
   "outputs": [
    {
     "data": {
      "text/plain": [
       "[<matplotlib.lines.Line2D at 0x1deb3fcee50>]"
      ]
     },
     "execution_count": 12,
     "metadata": {},
     "output_type": "execute_result"
    },
    {
     "data": {
      "image/png": "[encoded data removed]",
      "text/plain": [
       "<Figure size 432x288 with 1 Axes>"
      ]
     },
     "metadata": {
      "needs_background": "light"
     },
     "output_type": "display_data"
    }
   ],
   "source": [
    "plt.plot(history.history['loss'])\n",
    "plt.plot(history.history['val_loss'])"
   ]
  },
  {
   "cell_type": "markdown",
   "metadata": {
    "id": "kH5pf7UX1WD9"
   },
   "source": [
    "## CNN Model"
   ]
  },
  {
   "cell_type": "code",
   "execution_count": 13,
   "metadata": {
    "id": "dWU4yBGO1X8A"
   },
   "outputs": [],
   "source": [
    "from tensorflow import keras\n",
    "from keras.layers import Conv2D, Dense, Flatten, MaxPooling2D, Dropout"
   ]
  },
  {
   "cell_type": "code",
   "execution_count": 14,
   "metadata": {
    "executionInfo": {
     "elapsed": 570,
     "status": "ok",
     "timestamp": 1650637756344,
     "user": {
      "displayName": "Abdulaziz Mohammad",
      "userId": "00984729133826365059"
     },
     "user_tz": -330
    },
    "id": "E8vLr0nn1rM7"
   },
   "outputs": [],
   "source": [
    "cnn = keras.Sequential()\n",
    "cnn.add(Conv2D(32, kernel_size= (3,3), strides=(1,1), padding='same', activation='relu', input_shape = (32,32,3)))\n",
    "cnn.add(MaxPooling2D((2,2)))\n",
    "cnn.add(Conv2D(64, kernel_size= (3,3), strides=(1,1), padding='same', activation='relu'))\n",
    "cnn.add(MaxPooling2D((2,2)))\n",
    "cnn.add(Conv2D(128, kernel_size= (3,3), strides=(1,1), padding='same', activation='relu'))\n",
    "cnn.add(MaxPooling2D((2,2)))\n",
    "cnn.add(Conv2D(256, kernel_size= (3,3), strides=(1,1), padding='same', activation='relu'))\n",
    "cnn.add(MaxPooling2D((2,2)))\n",
    "cnn.add(Flatten())\n",
    "cnn.add(Dense(64,activation='relu'))\n",
    "cnn.add(Dropout(0.3))\n",
    "cnn.add(Dense(10,activation='softmax'))"
   ]
  },
  {
   "cell_type": "code",
   "execution_count": 15,
   "metadata": {
    "colab": {
     "base_uri": "https://localhost:8080/"
    },
    "executionInfo": {
     "elapsed": 595,
     "status": "ok",
     "timestamp": 1650637762047,
     "user": {
      "displayName": "Abdulaziz Mohammad",
      "userId": "00984729133826365059"
     },
     "user_tz": -330
    },
    "id": "hJ6FMNZN1-se",
    "outputId": "231de159-9469-42c5-82e7-172f74b4d91d"
   },
   "outputs": [
    {
     "name": "stdout",
     "output_type": "stream",
     "text": [
      "Model: \"sequential_1\"\n",
      "_________________________________________________________________\n",
      "Layer (type)                 Output Shape              Param #   \n",
      "=================================================================\n",
      "conv2d (Conv2D)              (None, 32, 32, 32)        896       \n",
      "_________________________________________________________________\n",
      "max_pooling2d (MaxPooling2D) (None, 16, 16, 32)        0         \n",
      "_________________________________________________________________\n",
      "conv2d_1 (Conv2D)            (None, 16, 16, 64)        18496     \n",
      "_________________________________________________________________\n",
      "max_pooling2d_1 (MaxPooling2 (None, 8, 8, 64)          0         \n",
      "_________________________________________________________________\n",
      "conv2d_2 (Conv2D)            (None, 8, 8, 128)         73856     \n",
      "_________________________________________________________________\n",
      "max_pooling2d_2 (MaxPooling2 (None, 4, 4, 128)         0         \n",
      "_________________________________________________________________\n",
      "conv2d_3 (Conv2D)            (None, 4, 4, 256)         295168    \n",
      "_________________________________________________________________\n",
      "max_pooling2d_3 (MaxPooling2 (None, 2, 2, 256)         0         \n",
      "_________________________________________________________________\n",
      "flatten_1 (Flatten)          (None, 1024)              0         \n",
      "_________________________________________________________________\n",
      "dense_2 (Dense)              (None, 64)                65600     \n",
      "_________________________________________________________________\n",
      "dropout (Dropout)            (None, 64)                0         \n",
      "_________________________________________________________________\n",
      "dense_3 (Dense)              (None, 10)                650       \n",
      "=================================================================\n",
      "Total params: 454,666\n",
      "Trainable params: 454,666\n",
      "Non-trainable params: 0\n",
      "_________________________________________________________________\n"
     ]
    }
   ],
   "source": [
    "cnn.summary()"
   ]
  },
  {
   "cell_type": "code",
   "execution_count": 16,
   "metadata": {
    "colab": {
     "base_uri": "https://localhost:8080/"
    },
    "executionInfo": {
     "elapsed": 203620,
     "status": "ok",
     "timestamp": 1650637411708,
     "user": {
      "displayName": "Abdulaziz Mohammad",
      "userId": "00984729133826365059"
     },
     "user_tz": -330
    },
    "id": "9J8IZOVD2E7-",
    "outputId": "f197ccd2-9f40-4ac9-c2dc-7b5eb850405c"
   },
   "outputs": [
    {
     "name": "stdout",
     "output_type": "stream",
     "text": [
      "Epoch 1/10\n",
      "1563/1563 [==============================] - 18s 7ms/step - loss: 1.6197 - accuracy: 0.3998 - val_loss: 1.2401 - val_accuracy: 0.5425\n",
      "Epoch 2/10\n",
      "1563/1563 [==============================] - 9s 6ms/step - loss: 1.1773 - accuracy: 0.5796 - val_loss: 1.0552 - val_accuracy: 0.6266\n",
      "Epoch 3/10\n",
      "1563/1563 [==============================] - 9s 6ms/step - loss: 0.9728 - accuracy: 0.6613 - val_loss: 0.8964 - val_accuracy: 0.6860\n",
      "Epoch 4/10\n",
      "1563/1563 [==============================] - 9s 6ms/step - loss: 0.8417 - accuracy: 0.7102 - val_loss: 0.8575 - val_accuracy: 0.7009\n",
      "Epoch 5/10\n",
      "1563/1563 [==============================] - 9s 6ms/step - loss: 0.7343 - accuracy: 0.7465 - val_loss: 0.8036 - val_accuracy: 0.7208\n",
      "Epoch 6/10\n",
      "1563/1563 [==============================] - 9s 6ms/step - loss: 0.6516 - accuracy: 0.7753 - val_loss: 0.7712 - val_accuracy: 0.7403\n",
      "Epoch 7/10\n",
      "1563/1563 [==============================] - 9s 6ms/step - loss: 0.5820 - accuracy: 0.8004 - val_loss: 0.7836 - val_accuracy: 0.7444\n",
      "Epoch 8/10\n",
      "1563/1563 [==============================] - 9s 6ms/step - loss: 0.5159 - accuracy: 0.8206 - val_loss: 0.8404 - val_accuracy: 0.7352\n",
      "Epoch 9/10\n",
      "1563/1563 [==============================] - 9s 6ms/step - loss: 0.4658 - accuracy: 0.8370 - val_loss: 0.8305 - val_accuracy: 0.7449\n",
      "Epoch 10/10\n",
      "1563/1563 [==============================] - 9s 6ms/step - loss: 0.4168 - accuracy: 0.8554 - val_loss: 0.8990 - val_accuracy: 0.7359\n"
     ]
    }
   ],
   "source": [
    "cnn.compile(loss='sparse_categorical_crossentropy',optimizer='adam',metrics=['accuracy'])\n",
    "history = cnn.fit(X_train,y_train,epochs=10,validation_data=(X_test,y_test))"
   ]
  },
  {
   "cell_type": "code",
   "execution_count": 17,
   "metadata": {
    "executionInfo": {
     "elapsed": 594,
     "status": "ok",
     "timestamp": 1650637563780,
     "user": {
      "displayName": "Abdulaziz Mohammad",
      "userId": "00984729133826365059"
     },
     "user_tz": -330
    },
    "id": "_ndaiS363B5K"
   },
   "outputs": [],
   "source": [
    "def plotLosses(history):  \n",
    "    plt.plot(history.history['loss'])\n",
    "    plt.plot(history.history['val_loss'])\n",
    "    plt.title('model loss')\n",
    "    plt.ylabel('loss')\n",
    "    plt.xlabel('epoch')\n",
    "    plt.legend(['train', 'validation'], loc='upper right')\n",
    "    plt.show()"
   ]
  },
  {
   "cell_type": "code",
   "execution_count": 18,
   "metadata": {
    "colab": {
     "base_uri": "https://localhost:8080/",
     "height": 295
    },
    "executionInfo": {
     "elapsed": 581,
     "status": "ok",
     "timestamp": 1650637570356,
     "user": {
      "displayName": "Abdulaziz Mohammad",
      "userId": "00984729133826365059"
     },
     "user_tz": -330
    },
    "id": "1DRllhYS3IwI",
    "outputId": "91315349-093e-41e5-d94b-42dcbb284c48"
   },
   "outputs": [
    {
     "data": {
      "image/png": "[encoded data removed]",
      "text/plain": [
       "<Figure size 432x288 with 1 Axes>"
      ]
     },
     "metadata": {
      "needs_background": "light"
     },
     "output_type": "display_data"
    }
   ],
   "source": [
    "plotLosses(history)"
   ]
  },
  {
   "cell_type": "code",
   "execution_count": 19,
   "metadata": {
    "executionInfo": {
     "elapsed": 548,
     "status": "ok",
     "timestamp": 1650637611637,
     "user": {
      "displayName": "Abdulaziz Mohammad",
      "userId": "00984729133826365059"
     },
     "user_tz": -330
    },
    "id": "IWCQgFgr3fdI"
   },
   "outputs": [],
   "source": [
    "def plotAccuracy(history):  \n",
    "    plt.plot(history.history['accuracy'])\n",
    "    plt.plot(history.history['val_accuracy'])\n",
    "    plt.title('model Accuracy')\n",
    "    plt.ylabel('Accuracy')\n",
    "    plt.xlabel('epoch')\n",
    "    plt.legend(['train', 'validation'], loc='upper left')\n",
    "    plt.show()"
   ]
  },
  {
   "cell_type": "code",
   "execution_count": 20,
   "metadata": {
    "colab": {
     "base_uri": "https://localhost:8080/",
     "height": 295
    },
    "executionInfo": {
     "elapsed": 679,
     "status": "ok",
     "timestamp": 1650637617604,
     "user": {
      "displayName": "Abdulaziz Mohammad",
      "userId": "00984729133826365059"
     },
     "user_tz": -330
    },
    "id": "M9tRUozK3zwi",
    "outputId": "cc84dc49-b686-4262-f3b6-5910f267ded4"
   },
   "outputs": [
    {
     "data": {
      "image/png": "[encoded data removed]",
      "text/plain": [
       "<Figure size 432x288 with 1 Axes>"
      ]
     },
     "metadata": {
      "needs_background": "light"
     },
     "output_type": "display_data"
    }
   ],
   "source": [
    "plotAccuracy(history)"
   ]
  },
  {
   "cell_type": "code",
   "execution_count": null,
   "metadata": {},
   "outputs": [],
   "source": []
  }
 ],
 "metadata": {
  "accelerator": "GPU",
  "colab": {
   "authorship_tag": "ABX9TyMNUt8YE5GhQb6DEU3GYJbG",
   "name": "ANN&CNN_CIFAR-10.ipynb",
   "version": ""
  },
  "kernelspec": {
   "display_name": "Python 3 (ipykernel)",
   "language": "python",
   "name": "python3"
  },
  "language_info": {
   "codemirror_mode": {
    "name": "ipython",
    "version": 3
   },
   "file_extension": ".py",
   "mimetype": "text/x-python",
   "name": "python",
   "nbconvert_exporter": "python",
   "pygments_lexer": "ipython3",
   "version": "3.8.18"
  }
 },
 "nbformat": 4,
 "nbformat_minor": 1
}

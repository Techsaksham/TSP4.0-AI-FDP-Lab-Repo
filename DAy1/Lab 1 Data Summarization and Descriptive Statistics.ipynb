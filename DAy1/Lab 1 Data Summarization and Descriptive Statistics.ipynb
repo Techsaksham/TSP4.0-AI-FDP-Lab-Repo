{
 "cells": [
  {
   "attachments": {
    "image.png": {
     "image/png": "[encoded data removed]"
    }
   },
   "cell_type": "markdown",
   "id": "7a1eef8d",
   "metadata": {},
   "source": [
    "![image.png](attachment:image.png)"
   ]
  },
  {
   "cell_type": "markdown",
   "id": "5dfab800",
   "metadata": {},
   "source": [
    "# Edunet Foundation : Class Room Exercises"
   ]
  },
  {
   "cell_type": "markdown",
   "id": "4e9b62c6-f904-40bf-87f1-4f6a0eadd97f",
   "metadata": {},
   "source": [
    "# Lab: Using Pandas and NumPy for Data Summarization and Descriptive Statistics\n",
    "\n",
    "### objective:\n",
    "\n",
    "The objective of the \"Using Pandas and NumPy for Data Summarization and Descriptive Statistics\" lab is to equip learners with the skills to efficiently analyze and summarize data using the Pandas and NumPy libraries in Python. The lab begins with an introduction to data structures in Pandas and basic operations in NumPy. Learners will gain hands-on experience in loading datasets, performing data cleaning, and calculating descriptive statistics such as mean, median, standard deviation, and percentiles. By the end of the lab, learners will be proficient in using Pandas and NumPy to perform comprehensive data analysis, enabling them to derive meaningful insights from datasets."
   ]
  },
  {
   "cell_type": "markdown",
   "id": "320d62df-2d07-4084-900a-21da1397defb",
   "metadata": {},
   "source": [
    "#### # Step 1: Import Pandas and Load Your Data "
   ]
  },
  {
   "cell_type": "code",
   "execution_count": 1,
   "id": "5568b20f-6992-4645-ae0a-3b9016171dad",
   "metadata": {},
   "outputs": [],
   "source": [
    "import pandas as pd\n",
    "\n",
    "# Load your dataset (replace 'data.csv' with your actual file path)\n",
    "df = pd.read_csv('Lab 1 data.csv')\n"
   ]
  },
  {
   "cell_type": "markdown",
   "id": "9717820b-5bb0-4bfc-8ac4-b786c166c16d",
   "metadata": {},
   "source": [
    "#### # Step 2: View the First Few Rows of Your Dataset "
   ]
  },
  {
   "cell_type": "code",
   "execution_count": 2,
   "id": "024cbbe3-c418-4d33-a289-09586cc9e3b3",
   "metadata": {},
   "outputs": [
    {
     "data": {
      "text/html": [
       "<div>\n",
       "<style scoped>\n",
       "    .dataframe tbody tr th:only-of-type {\n",
       "        vertical-align: middle;\n",
       "    }\n",
       "\n",
       "    .dataframe tbody tr th {\n",
       "        vertical-align: top;\n",
       "    }\n",
       "\n",
       "    .dataframe thead th {\n",
       "        text-align: right;\n",
       "    }\n",
       "</style>\n",
       "<table border=\"1\" class=\"dataframe\">\n",
       "  <thead>\n",
       "    <tr style=\"text-align: right;\">\n",
       "      <th></th>\n",
       "      <th>Duration</th>\n",
       "      <th>Pulse</th>\n",
       "      <th>Maxpulse</th>\n",
       "      <th>Calories</th>\n",
       "    </tr>\n",
       "  </thead>\n",
       "  <tbody>\n",
       "    <tr>\n",
       "      <th>0</th>\n",
       "      <td>60</td>\n",
       "      <td>110</td>\n",
       "      <td>130</td>\n",
       "      <td>409.1</td>\n",
       "    </tr>\n",
       "    <tr>\n",
       "      <th>1</th>\n",
       "      <td>60</td>\n",
       "      <td>117</td>\n",
       "      <td>145</td>\n",
       "      <td>479.0</td>\n",
       "    </tr>\n",
       "    <tr>\n",
       "      <th>2</th>\n",
       "      <td>60</td>\n",
       "      <td>103</td>\n",
       "      <td>135</td>\n",
       "      <td>340.0</td>\n",
       "    </tr>\n",
       "    <tr>\n",
       "      <th>3</th>\n",
       "      <td>45</td>\n",
       "      <td>109</td>\n",
       "      <td>175</td>\n",
       "      <td>282.4</td>\n",
       "    </tr>\n",
       "    <tr>\n",
       "      <th>4</th>\n",
       "      <td>45</td>\n",
       "      <td>117</td>\n",
       "      <td>148</td>\n",
       "      <td>406.0</td>\n",
       "    </tr>\n",
       "  </tbody>\n",
       "</table>\n",
       "</div>"
      ],
      "text/plain": [
       "   Duration  Pulse  Maxpulse  Calories\n",
       "0        60    110       130     409.1\n",
       "1        60    117       145     479.0\n",
       "2        60    103       135     340.0\n",
       "3        45    109       175     282.4\n",
       "4        45    117       148     406.0"
      ]
     },
     "execution_count": 2,
     "metadata": {},
     "output_type": "execute_result"
    }
   ],
   "source": [
    "# Display the first few rows of the DataFrame\n",
    "df.head()\n"
   ]
  },
  {
   "cell_type": "markdown",
   "id": "648ec2bc-8450-447e-94ea-3bbee459db6c",
   "metadata": {},
   "source": [
    "#### Step 3: Summary Statistics"
   ]
  },
  {
   "cell_type": "code",
   "execution_count": 3,
   "id": "c83a2af9-8701-41df-bc64-5b3cb4575ff5",
   "metadata": {},
   "outputs": [
    {
     "name": "stdout",
     "output_type": "stream",
     "text": [
      "         Duration       Pulse    Maxpulse     Calories\n",
      "count  169.000000  169.000000  169.000000   164.000000\n",
      "mean    63.846154  107.461538  134.047337   375.790244\n",
      "std     42.299949   14.510259   16.450434   266.379919\n",
      "min     15.000000   80.000000  100.000000    50.300000\n",
      "25%     45.000000  100.000000  124.000000   250.925000\n",
      "50%     60.000000  105.000000  131.000000   318.600000\n",
      "75%     60.000000  111.000000  141.000000   387.600000\n",
      "max    300.000000  159.000000  184.000000  1860.400000\n"
     ]
    }
   ],
   "source": [
    "# Summary statistics for numerical columns\n",
    "summary_stats = df.describe()\n",
    "print(summary_stats)\n"
   ]
  },
  {
   "cell_type": "markdown",
   "id": "10465d2a-48a1-42a1-8764-f74a928fcad7",
   "metadata": {},
   "source": [
    "#### Step 4: Individual Descriptive Statistics"
   ]
  },
  {
   "cell_type": "code",
   "execution_count": 6,
   "id": "0079e9b9-7531-4250-b0eb-281d78b4d349",
   "metadata": {},
   "outputs": [
    {
     "name": "stdout",
     "output_type": "stream",
     "text": [
      "Mean of Duration:: 63.84615384615385\n",
      "Median of Duration:: 60.0\n",
      "Standard Deviation of Duration:: 42.299949341408364\n",
      "Count of non null values in Maxpluse:: 169\n",
      "Min valu of the column:: 15\n",
      "MAX value in column:: 300\n"
     ]
    }
   ],
   "source": [
    "# Mean of a specific column\n",
    "mean_column = df['Duration'].mean()\n",
    "print(f\"Mean of Duration:: {mean_column}\")\n",
    "\n",
    "# Median of a specific column\n",
    "median_column = df['Duration'].median()\n",
    "print(f\"Median of Duration:: {median_column}\")\n",
    "\n",
    "# Standard deviation of a specific column\n",
    "std_column = df['Duration'].std()\n",
    "print(f\"Standard Deviation of Duration:: {std_column}\")\n",
    "\n",
    "# Count of non-null values in a specific column\n",
    "count_column = df['Maxpulse'].count()\n",
    "print(f\"Count of non null values in Maxpluse:: {count_column}\")\n",
    "\n",
    "# Minimum value in a specific column\n",
    "min_column = df['Duration'].min()\n",
    "print(f\"Min valu of the column:: {min_column}\")\n",
    "\n",
    "# Maximum value in a specific column\n",
    "max_column = df['Duration'].max()\n",
    "print(f\"MAX value in column:: {max_column}\")\n"
   ]
  },
  {
   "cell_type": "markdown",
   "id": "d50a9a99-18bb-4ce5-ad49-42861ea404b4",
   "metadata": {},
   "source": [
    "## Using NumPy for Custom Descriptive Statistics\n",
    "\n",
    "NumPy is often used in conjunction with Pandas for numerical computations and can be useful for custom statistics"
   ]
  },
  {
   "cell_type": "markdown",
   "id": "1ad134f3-6f0e-480f-8079-1af866f69a3e",
   "metadata": {},
   "source": [
    "#### Step 1: Import NumPy"
   ]
  },
  {
   "cell_type": "code",
   "execution_count": 7,
   "id": "3266c274-f449-42a6-88e3-0a8afb53bc72",
   "metadata": {},
   "outputs": [],
   "source": [
    "import numpy as np\n"
   ]
  },
  {
   "cell_type": "markdown",
   "id": "645cfa62-02a8-4cce-9c94-48ea4b44e4f3",
   "metadata": {},
   "source": [
    "#### Step 2: Compute Custom Statistics"
   ]
  },
  {
   "cell_type": "code",
   "execution_count": 8,
   "id": "1dc07d5a-7af9-426e-bf6d-1c35f2c49701",
   "metadata": {},
   "outputs": [
    {
     "name": "stdout",
     "output_type": "stream",
     "text": [
      "Mean of Calories:: 63.84615384615385\n",
      "Median of Calories:: 60.0\n",
      "Sandard deviation of Calories:: 60.0\n"
     ]
    }
   ],
   "source": [
    "# Calculate mean using NumPy\n",
    "mean_value = np.mean(df['Calories'])\n",
    "print(f\"Mean of Calories:: {mean_column}\")\n",
    "\n",
    "# Calculate median using NumPy\n",
    "median_value = np.median(df['Calories'])\n",
    "print(f\"Median of Calories:: {median_column}\")\n",
    "\n",
    "# Calculate standard deviation using NumPy\n",
    "std_deviation = np.std(df['Calories'])\n",
    "print(f\"Sandard deviation of Calories:: {median_column}\")\n",
    "\n",
    "# Calculate percentiles using NumPy\n",
    "percentile_25 = np.percentile(df['Calories'], 25)\n",
    "percentile_75 = np.percentile(df['Calories'], 75)\n"
   ]
  }
 ],
 "metadata": {
  "kernelspec": {
   "display_name": "Python 3 (ipykernel)",
   "language": "python",
   "name": "python3"
  },
  "language_info": {
   "codemirror_mode": {
    "name": "ipython",
    "version": 3
   },
   "file_extension": ".py",
   "mimetype": "text/x-python",
   "name": "python",
   "nbconvert_exporter": "python",
   "pygments_lexer": "ipython3",
   "version": "3.9.17"
  }
 },
 "nbformat": 4,
 "nbformat_minor": 5
}
